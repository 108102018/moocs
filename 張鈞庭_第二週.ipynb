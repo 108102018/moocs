{
 "cells": [
  {
   "cell_type": "markdown",
   "metadata": {},
   "source": [
    "# 第一題：猜數字遊戲"
   ]
  },
  {
   "cell_type": "code",
   "execution_count": 1,
   "metadata": {},
   "outputs": [
    {
     "name": "stdout",
     "output_type": "stream",
     "text": [
      "Populating the interactive namespace from numpy and matplotlib\n"
     ]
    }
   ],
   "source": [
    "%pylab inline"
   ]
  },
  {
   "cell_type": "code",
   "execution_count": 3,
   "metadata": {},
   "outputs": [
    {
     "name": "stdout",
     "output_type": "stream",
     "text": [
      "請輸入您猜的數字：55\n",
      "數字太大啦\n",
      "請再次輸入您猜的數字：37\n",
      "數字太大啦\n",
      "請再次輸入您猜的數字：24\n",
      "數字太小啦\n",
      "請再次輸入您猜的數字：30\n",
      "數字太大啦\n",
      "請再次輸入您猜的數字：27\n",
      "數字太小啦\n",
      "請再次輸入您猜的數字：28\n",
      "恭喜您猜對啦！\n"
     ]
    }
   ],
   "source": [
    "a = randint(1, 101)\n",
    "b = int(input(\"請輸入您猜的數字：\"))\n",
    "while b != a:\n",
    "    if b < a:\n",
    "        print(\"數字太小啦\")\n",
    "        b = int(input(\"請再次輸入您猜的數字：\"))\n",
    "    else:\n",
    "        print(\"數字太大啦\")\n",
    "        b= int(input(\"請再次輸入您猜的數字：\"))\n",
    "print('恭喜您猜對啦！')"
   ]
  },
  {
   "cell_type": "markdown",
   "metadata": {},
   "source": [
    "# 第二題：感恩讚嘆機器人"
   ]
  },
  {
   "cell_type": "code",
   "execution_count": 25,
   "metadata": {},
   "outputs": [
    {
     "name": "stdout",
     "output_type": "stream",
     "text": [
      ">> hi\n",
      "感恩來貘，讚嘆來貘\n",
      ">> 你好嗎\n",
      "感恩來貘，讚嘆來貘\n",
      ">> bye\n",
      "感恩來貘，讚嘆來貘\n"
     ]
    }
   ],
   "source": [
    "name = \"來貘\"\n",
    "message = \" \"\n",
    "while message != \"bye\":\n",
    "    message = input(\">> \")\n",
    "    print(\"感恩{}，讚嘆{}\".format(name, name))"
   ]
  },
  {
   "cell_type": "markdown",
   "metadata": {},
   "source": [
    "# 第三題：寫個函數讓字串倒過來排"
   ]
  },
  {
   "cell_type": "code",
   "execution_count": 55,
   "metadata": {},
   "outputs": [
    {
     "name": "stdout",
     "output_type": "stream",
     "text": [
      "請輸入字串：abcdefghi\n",
      "ihgfedcba\n"
     ]
    }
   ],
   "source": [
    "x = input(\"請輸入字串：\")\n",
    "def reverse(x):\n",
    "    return(x[ : : -1])\n",
    "y = reverse(x)\n",
    "print(y)"
   ]
  },
  {
   "cell_type": "code",
   "execution_count": null,
   "metadata": {},
   "outputs": [],
   "source": []
  },
  {
   "cell_type": "code",
   "execution_count": null,
   "metadata": {},
   "outputs": [],
   "source": []
  }
 ],
 "metadata": {
  "kernelspec": {
   "display_name": "Python 3",
   "language": "python",
   "name": "python3"
  },
  "language_info": {
   "codemirror_mode": {
    "name": "ipython",
    "version": 3
   },
   "file_extension": ".py",
   "mimetype": "text/x-python",
   "name": "python",
   "nbconvert_exporter": "python",
   "pygments_lexer": "ipython3",
   "version": "3.7.4"
  }
 },
 "nbformat": 4,
 "nbformat_minor": 2
}
